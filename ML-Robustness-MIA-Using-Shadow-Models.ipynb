{
 "cells": [
  {
   "cell_type": "markdown",
   "id": "9166f7dd",
   "metadata": {},
   "source": [
    "## ML Robustness: MIA Using Shadow Models\n",
    "\n",
    "The solution identify the robustness of ML model towards Membership inference attack which target to extract information about training data\n",
    "\n",
    "This sample notebook shows you how to attack model and find robustness from AWS Marketplace \n",
    "\n",
    "> **Note**: This is a reference notebook and it cannot run unless you make changes suggested in the notebook.\n",
    "\n",
    "#### Pre-requisites:\n",
    "1. **Note**: This notebook contains elements which render correctly in Jupyter interface. Open this notebook from an Amazon SageMaker Notebook Instance or Amazon SageMaker Studio.\n",
    "1. Ensure that IAM role used has **AmazonSageMakerFullAccess**\n",
    "1. Some hands-on experience using [Amazon SageMaker](https://aws.amazon.com/sagemaker/).\n",
    "1. To use this algorithm successfully, ensure that:\n",
    "    1. Either your IAM role has these three permissions and you have authority to make AWS Marketplace subscriptions in the AWS account used: \n",
    "        1. **aws-marketplace:ViewSubscriptions**\n",
    "        1. **aws-marketplace:Unsubscribe**\n",
    "        1. **aws-marketplace:Subscribe**  \n",
    "    2. or your AWS account has a subscription to ML Robustness: Poison attack. \n",
    "\n",
    "#### Contents:\n",
    "1. [Subscribe to the algorithm](#1.-Subscribe-to-the-algorithm)\n",
    "1. [Prepare dataset](#2.-Prepare-dataset)\n",
    "\t1. [Dataset format expected by the algorithm](#A.-Dataset-format-expected-by-the-algorithm)\n",
    "\t1. [Configure dataset](#B.-Configure-dataset)\n",
    "\t1. [Upload datasets to Amazon S3](#C.-Upload-datasets-to-Amazon-S3)\n",
    "1. [Execute optimization model](#3.-Execute-optimization-model)\n",
    "\t1. [Set up environment](#3.1-Set-up-environment)\n",
    "\t1. [Execute model](#3.2-Execute-model)\n",
    "    1. [Visualize Output](#3.3-Inspect-the-Output-in-S3)\n",
    "1. [Clean-up](#4.-Clean-up)\n",
    "\t1. [Unsubscribe to the listing (optional)](#Unsubscribe-to-the-listing-(optional))\n",
    "\n",
    "\n",
    "#### Usage instructions\n",
    "You can run this notebook one cell at a time (By using Shift+Enter for running a cell)."
   ]
  },
  {
   "cell_type": "markdown",
   "id": "9f38b242",
   "metadata": {},
   "source": [
    "### 1. Subscribe to the algorithm"
   ]
  },
  {
   "cell_type": "markdown",
   "id": "7e272e87",
   "metadata": {},
   "source": [
    "To subscribe to the algorithm:\n",
    "1. Open the algorithm listing page **ML Robustness: MIA Using Shadow Models**\n",
    "1. On the AWS Marketplace listing,  click on **Continue to subscribe** button.\n",
    "1. On the **Subscribe to this software** page, review and click on **\"Accept Offer\"** if you agree with EULA, pricing, and support terms. \n",
    "1. Once you click on **Continue to configuration button** and then choose a **region**, you will see a **Product Arn**. This is the algorithm ARN that you need to specify while training a custom ML model. Copy the ARN corresponding to your region and specify the same in the following cell."
   ]
  },
  {
   "cell_type": "code",
   "execution_count": 1,
   "id": "0779fc62",
   "metadata": {},
   "outputs": [],
   "source": [
    "algo_arn = \"arn:aws:sagemaker:us-east-2:786796469737:algorithm/mia-shadow-attack\""
   ]
  },
  {
   "cell_type": "markdown",
   "id": "a828a6af",
   "metadata": {},
   "source": [
    "### 2. Prepare dataset"
   ]
  },
  {
   "cell_type": "code",
   "execution_count": 2,
   "id": "7a1c0e60",
   "metadata": {},
   "outputs": [],
   "source": [
    "import os\n",
    "import json \n",
    "import uuid\n",
    "import boto3\n",
    "import pickle\n",
    "import base64\n",
    "import tarfile\n",
    "from pprint import pprint\n",
    "\n",
    "import numpy as np\n",
    "import pandas as pd\n",
    "\n",
    "import urllib.request\n",
    "from urllib.parse import urlparse\n",
    "\n",
    "import sagemaker as sage\n",
    "from sagemaker import ModelPackage\n",
    "from sagemaker import get_execution_role"
   ]
  },
  {
   "cell_type": "markdown",
   "id": "2aaaf042",
   "metadata": {},
   "source": [
    "#### A. Dataset format expected by the algorithm"
   ]
  },
  {
   "cell_type": "markdown",
   "id": "506c437a",
   "metadata": {},
   "source": [
    "The algorithm requires data in the format as described for best results:\n",
    "* Input File name should be data.zip, model.pkl\n",
    "* For detailed instructions, please refer sample notebook and algorithm input details"
   ]
  },
  {
   "cell_type": "markdown",
   "id": "5e3f1902",
   "metadata": {},
   "source": [
    "#### B. Configure dataset"
   ]
  },
  {
   "cell_type": "code",
   "execution_count": 3,
   "id": "8354a96c",
   "metadata": {},
   "outputs": [],
   "source": [
    "training_dataset=\"Input/data.zip\""
   ]
  },
  {
   "cell_type": "markdown",
   "id": "fe0db8c6",
   "metadata": {},
   "source": [
    "#### C. Upload datasets to Amazon S3"
   ]
  },
  {
   "cell_type": "code",
   "execution_count": 4,
   "id": "39cd2245",
   "metadata": {},
   "outputs": [],
   "source": [
    "role = get_execution_role()"
   ]
  },
  {
   "cell_type": "code",
   "execution_count": null,
   "id": "5a37bc5a",
   "metadata": {},
   "outputs": [],
   "source": [
    "sagemaker_session = sage.Session()\n",
    "\n",
    "bucket = sagemaker_session.default_bucket()\n",
    "bucket"
   ]
  },
  {
   "cell_type": "code",
   "execution_count": null,
   "id": "8b58e5c6",
   "metadata": {},
   "outputs": [],
   "source": [
    "# training input location\n",
    "common_prefix = \"mia-shadow-attack\"\n",
    "training_input_prefix = common_prefix + \"/training-input-data\"\n",
    "TRAINING_WORKDIR = \"input\" #Input directory in Jupyter Server\n",
    "training_input = sagemaker_session.upload_data(TRAINING_WORKDIR, key_prefix=training_input_prefix) #uploads data from jupyter server to S3\n",
    "print(\"Training input uploaded to \" + training_input)"
   ]
  },
  {
   "cell_type": "markdown",
   "id": "5cf81930",
   "metadata": {},
   "source": [
    "## 3. Execute the training process"
   ]
  },
  {
   "cell_type": "markdown",
   "id": "503d7d2a",
   "metadata": {},
   "source": [
    "Now that dataset is available in an accessible Amazon S3 bucket, we are ready to execute a training pipeline to get clean sentiment class labels using clean-sentiment-classification-labels Algorithm. "
   ]
  },
  {
   "cell_type": "markdown",
   "id": "3983eac4",
   "metadata": {},
   "source": [
    "### 3.1 Set up environment"
   ]
  },
  {
   "cell_type": "code",
   "execution_count": 7,
   "id": "518983df",
   "metadata": {},
   "outputs": [],
   "source": [
    "output_location = 's3://{}/mia-shadow-attack/{}'.format(bucket, 'Output')"
   ]
  },
  {
   "cell_type": "code",
   "execution_count": null,
   "id": "f8630a22",
   "metadata": {},
   "outputs": [],
   "source": [
    "output_location"
   ]
  },
  {
   "cell_type": "markdown",
   "id": "05e39940",
   "metadata": {},
   "source": [
    "### 3.2 Execute model"
   ]
  },
  {
   "cell_type": "markdown",
   "id": "2ea154b9",
   "metadata": {},
   "source": [
    "For information on creating an `Estimator` object, see [documentation](https://sagemaker.readthedocs.io/en/stable/api/training/estimators.html)"
   ]
  },
  {
   "cell_type": "code",
   "execution_count": 9,
   "id": "65409759",
   "metadata": {},
   "outputs": [],
   "source": [
    "training_instance_type=\"ml.m5.4xlarge\""
   ]
  },
  {
   "cell_type": "code",
   "execution_count": 10,
   "id": "081867c3",
   "metadata": {
    "scrolled": true
   },
   "outputs": [
    {
     "name": "stdout",
     "output_type": "stream",
     "text": [
      "2023-02-12 02:50:51 Starting - Starting the training job...\n",
      "2023-02-12 02:51:06 Starting - Preparing the instances for trainingProfilerReport-1676170251: InProgress\n",
      "......\n",
      "2023-02-12 02:52:07 Downloading - Downloading input data\n",
      "2023-02-12 02:52:07 Training - Training image download completed. Training in progress..\u001b[34mStarting the train function.\u001b[0m\n",
      "\u001b[34m/usr/local/lib/python3.8/dist-packages/art/estimators/certification/__init__.py:13: UserWarning: PyTorch not found. Not importing DeepZ functionality\n",
      "  warnings.warn(\"PyTorch not found. Not importing DeepZ functionality\")\u001b[0m\n",
      "\u001b[34m/usr/local/lib/python3.8/dist-packages/sklearn/utils/deprecation.py:103: FutureWarning: Attribute `n_features_` was deprecated in version 1.0 and will be removed in 1.2. Use `n_features_in_` instead.\n",
      "  warnings.warn(msg, category=FutureWarning)\u001b[0m\n",
      "\u001b[34m/usr/local/lib/python3.8/dist-packages/sklearn/utils/deprecation.py:103: FutureWarning: Attribute `n_features_` was deprecated in version 1.0 and will be removed in 1.2. Use `n_features_in_` instead.\n",
      "  warnings.warn(msg, category=FutureWarning)\u001b[0m\n",
      "\u001b[34m/usr/local/lib/python3.8/dist-packages/sklearn/utils/deprecation.py:103: FutureWarning: Attribute `n_features_` was deprecated in version 1.0 and will be removed in 1.2. Use `n_features_in_` instead.\n",
      "  warnings.warn(msg, category=FutureWarning)\u001b[0m\n",
      "\u001b[34m/usr/local/lib/python3.8/dist-packages/sklearn/utils/deprecation.py:103: FutureWarning: Attribute `n_features_` was deprecated in version 1.0 and will be removed in 1.2. Use `n_features_in_` instead.\n",
      "  warnings.warn(msg, category=FutureWarning)\u001b[0m\n",
      "\u001b[34m[0.934156378600823, 0.9053497942386831, 0.9012345679012346]\u001b[0m\n",
      "\u001b[34m-----------------iteration for 10% data-------------------------------\u001b[0m\n",
      "\u001b[34m-----------Training random forest attack model-------------\u001b[0m\n",
      "\u001b[34mAttack Member Acc: 0.9670781893004116\u001b[0m\n",
      "\u001b[34mAttack Non-Member Acc: 0.23662551440329216\u001b[0m\n",
      "\u001b[34mAttack Accuracy: 0.6018518518518519\u001b[0m\n",
      "\u001b[34m-------------------Training grdient boosting attack model---------------\u001b[0m\n",
      "\u001b[34mAttack Member Acc: 0.9794238683127572\u001b[0m\n",
      "\u001b[34mAttack Non-Member Acc: 0.2304526748971193\u001b[0m\n",
      "\u001b[34mAttack Accuracy: 0.6049382716049383\u001b[0m\n",
      "\u001b[34m/usr/local/lib/python3.8/dist-packages/sklearn/utils/deprecation.py:103: FutureWarning: Attribute `n_features_` was deprecated in version 1.0 and will be removed in 1.2. Use `n_features_in_` instead.\n",
      "  warnings.warn(msg, category=FutureWarning)\u001b[0m\n",
      "\u001b[34m/usr/local/lib/python3.8/dist-packages/sklearn/utils/deprecation.py:103: FutureWarning: Attribute `n_features_` was deprecated in version 1.0 and will be removed in 1.2. Use `n_features_in_` instead.\n",
      "  warnings.warn(msg, category=FutureWarning)\u001b[0m\n",
      "\u001b[34m/usr/local/lib/python3.8/dist-packages/sklearn/utils/deprecation.py:103: FutureWarning: Attribute `n_features_` was deprecated in version 1.0 and will be removed in 1.2. Use `n_features_in_` instead.\n",
      "  warnings.warn(msg, category=FutureWarning)\u001b[0m\n",
      "\u001b[34m/usr/local/lib/python3.8/dist-packages/sklearn/utils/deprecation.py:103: FutureWarning: Attribute `n_features_` was deprecated in version 1.0 and will be removed in 1.2. Use `n_features_in_` instead.\n",
      "  warnings.warn(msg, category=FutureWarning)\u001b[0m\n",
      "\u001b[34m[0.9403292181069959, 0.9320987654320988, 0.9320987654320988]\u001b[0m\n",
      "\u001b[34m-----------------iteration for 20% data-------------------------------\u001b[0m\n",
      "\u001b[34m-----------Training random forest attack model-------------\u001b[0m\n",
      "\u001b[34mAttack Member Acc: 0.9259259259259259\u001b[0m\n",
      "\u001b[34mAttack Non-Member Acc: 0.30452674897119336\u001b[0m\n",
      "\u001b[34mAttack Accuracy: 0.6152263374485597\u001b[0m\n",
      "\u001b[34m-------------------Training grdient boosting attack model---------------\u001b[0m\n",
      "\u001b[34mAttack Member Acc: 0.9465020576131687\u001b[0m\n",
      "\u001b[34mAttack Non-Member Acc: 0.3374485596707819\u001b[0m\n",
      "\u001b[34mAttack Accuracy: 0.6419753086419753\u001b[0m\n",
      "\u001b[34m/usr/local/lib/python3.8/dist-packages/sklearn/utils/deprecation.py:103: FutureWarning: Attribute `n_features_` was deprecated in version 1.0 and will be removed in 1.2. Use `n_features_in_` instead.\n",
      "  warnings.warn(msg, category=FutureWarning)\u001b[0m\n",
      "\u001b[34m/usr/local/lib/python3.8/dist-packages/sklearn/utils/deprecation.py:103: FutureWarning: Attribute `n_features_` was deprecated in version 1.0 and will be removed in 1.2. Use `n_features_in_` instead.\n",
      "  warnings.warn(msg, category=FutureWarning)\u001b[0m\n",
      "\u001b[34m/usr/local/lib/python3.8/dist-packages/sklearn/utils/deprecation.py:103: FutureWarning: Attribute `n_features_` was deprecated in version 1.0 and will be removed in 1.2. Use `n_features_in_` instead.\n",
      "  warnings.warn(msg, category=FutureWarning)\u001b[0m\n",
      "\u001b[34m/usr/local/lib/python3.8/dist-packages/sklearn/utils/deprecation.py:103: FutureWarning: Attribute `n_features_` was deprecated in version 1.0 and will be removed in 1.2. Use `n_features_in_` instead.\n",
      "  warnings.warn(msg, category=FutureWarning)\u001b[0m\n",
      "\u001b[34m[0.948559670781893, 0.948559670781893, 0.9403292181069959]\u001b[0m\n",
      "\u001b[34m-----------------iteration for 30% data-------------------------------\u001b[0m\n",
      "\u001b[34m-----------Training random forest attack model-------------\u001b[0m\n",
      "\u001b[34mAttack Member Acc: 0.8888888888888888\u001b[0m\n",
      "\u001b[34mAttack Non-Member Acc: 0.4156378600823045\u001b[0m\n",
      "\u001b[34mAttack Accuracy: 0.6522633744855967\u001b[0m\n",
      "\u001b[34m-------------------Training grdient boosting attack model---------------\u001b[0m\n",
      "\u001b[34mAttack Member Acc: 0.9074074074074074\u001b[0m\n",
      "\u001b[34mAttack Non-Member Acc: 0.4732510288065843\u001b[0m\n",
      "\u001b[34mAttack Accuracy: 0.6903292181069959\u001b[0m\n",
      "\u001b[34m/usr/local/lib/python3.8/dist-packages/sklearn/utils/deprecation.py:103: FutureWarning: Attribute `n_features_` was deprecated in version 1.0 and will be removed in 1.2. Use `n_features_in_` instead.\n",
      "  warnings.warn(msg, category=FutureWarning)\u001b[0m\n",
      "\u001b[34m/usr/local/lib/python3.8/dist-packages/sklearn/utils/deprecation.py:103: FutureWarning: Attribute `n_features_` was deprecated in version 1.0 and will be removed in 1.2. Use `n_features_in_` instead.\n",
      "  warnings.warn(msg, category=FutureWarning)\u001b[0m\n",
      "\u001b[34m/usr/local/lib/python3.8/dist-packages/sklearn/utils/deprecation.py:103: FutureWarning: Attribute `n_features_` was deprecated in version 1.0 and will be removed in 1.2. Use `n_features_in_` instead.\n",
      "  warnings.warn(msg, category=FutureWarning)\u001b[0m\n",
      "\u001b[34m/usr/local/lib/python3.8/dist-packages/sklearn/utils/deprecation.py:103: FutureWarning: Attribute `n_features_` was deprecated in version 1.0 and will be removed in 1.2. Use `n_features_in_` instead.\n",
      "  warnings.warn(msg, category=FutureWarning)\u001b[0m\n",
      "\u001b[34m[0.9526748971193416, 0.9506172839506173, 0.9382716049382716]\u001b[0m\n",
      "\u001b[34m-----------------iteration for 40% data-------------------------------\u001b[0m\n",
      "\u001b[34m-----------Training random forest attack model-------------\u001b[0m\n",
      "\u001b[34mAttack Member Acc: 0.8868312757201646\u001b[0m\n",
      "\u001b[34mAttack Non-Member Acc: 0.522633744855967\u001b[0m\n",
      "\u001b[34mAttack Accuracy: 0.7047325102880658\u001b[0m\n",
      "\u001b[34m-------------------Training grdient boosting attack model---------------\u001b[0m\n",
      "\u001b[34mAttack Member Acc: 0.8703703703703703\u001b[0m\n",
      "\u001b[34mAttack Non-Member Acc: 0.5493827160493827\u001b[0m\n",
      "\u001b[34mAttack Accuracy: 0.7098765432098766\u001b[0m\n",
      "\u001b[34m/usr/local/lib/python3.8/dist-packages/sklearn/utils/deprecation.py:103: FutureWarning: Attribute `n_features_` was deprecated in version 1.0 and will be removed in 1.2. Use `n_features_in_` instead.\n",
      "  warnings.warn(msg, category=FutureWarning)\u001b[0m\n",
      "\u001b[34m/usr/local/lib/python3.8/dist-packages/sklearn/utils/deprecation.py:103: FutureWarning: Attribute `n_features_` was deprecated in version 1.0 and will be removed in 1.2. Use `n_features_in_` instead.\n",
      "  warnings.warn(msg, category=FutureWarning)\u001b[0m\n",
      "\u001b[34m/usr/local/lib/python3.8/dist-packages/sklearn/utils/deprecation.py:103: FutureWarning: Attribute `n_features_` was deprecated in version 1.0 and will be removed in 1.2. Use `n_features_in_` instead.\n",
      "  warnings.warn(msg, category=FutureWarning)\u001b[0m\n",
      "\u001b[34m/usr/local/lib/python3.8/dist-packages/sklearn/utils/deprecation.py:103: FutureWarning: Attribute `n_features_` was deprecated in version 1.0 and will be removed in 1.2. Use `n_features_in_` instead.\n",
      "  warnings.warn(msg, category=FutureWarning)\u001b[0m\n",
      "\u001b[34m[0.9650205761316872, 0.9588477366255144, 0.9650205761316872]\u001b[0m\n",
      "\u001b[34m-----------------iteration for 50% data-------------------------------\u001b[0m\n",
      "\u001b[34m-----------Training random forest attack model-------------\u001b[0m\n",
      "\u001b[34mAttack Member Acc: 0.8415637860082305\u001b[0m\n",
      "\u001b[34mAttack Non-Member Acc: 0.5432098765432098\u001b[0m\n",
      "\u001b[34mAttack Accuracy: 0.6923868312757202\u001b[0m\n",
      "\u001b[34m-------------------Training grdient boosting attack model---------------\u001b[0m\n",
      "\u001b[34mAttack Member Acc: 0.8333333333333334\u001b[0m\n",
      "\u001b[34mAttack Non-Member Acc: 0.5740740740740741\u001b[0m\n",
      "\u001b[34mAttack Accuracy: 0.7037037037037037\u001b[0m\n",
      "\u001b[34m/usr/local/lib/python3.8/dist-packages/sklearn/utils/deprecation.py:103: FutureWarning: Attribute `n_features_` was deprecated in version 1.0 and will be removed in 1.2. Use `n_features_in_` instead.\n",
      "  warnings.warn(msg, category=FutureWarning)\u001b[0m\n",
      "\u001b[34m/usr/local/lib/python3.8/dist-packages/sklearn/utils/deprecation.py:103: FutureWarning: Attribute `n_features_` was deprecated in version 1.0 and will be removed in 1.2. Use `n_features_in_` instead.\n",
      "  warnings.warn(msg, category=FutureWarning)\u001b[0m\n",
      "\u001b[34m/usr/local/lib/python3.8/dist-packages/sklearn/utils/deprecation.py:103: FutureWarning: Attribute `n_features_` was deprecated in version 1.0 and will be removed in 1.2. Use `n_features_in_` instead.\n",
      "  warnings.warn(msg, category=FutureWarning)\u001b[0m\n",
      "\u001b[34m/usr/local/lib/python3.8/dist-packages/sklearn/utils/deprecation.py:103: FutureWarning: Attribute `n_features_` was deprecated in version 1.0 and will be removed in 1.2. Use `n_features_in_` instead.\n",
      "  warnings.warn(msg, category=FutureWarning)\u001b[0m\n",
      "\u001b[34m[0.9506172839506173, 0.9629629629629629, 0.9547325102880658]\u001b[0m\n",
      "\u001b[34m-----------------iteration for 60% data-------------------------------\u001b[0m\n",
      "\u001b[34m-----------Training random forest attack model-------------\u001b[0m\n",
      "\u001b[34mAttack Member Acc: 0.8148148148148148\u001b[0m\n",
      "\u001b[34mAttack Non-Member Acc: 0.5740740740740741\u001b[0m\n",
      "\u001b[34mAttack Accuracy: 0.6944444444444444\u001b[0m\n",
      "\u001b[34m-------------------Training grdient boosting attack model---------------\u001b[0m\n",
      "\u001b[34mAttack Member Acc: 0.7962962962962963\u001b[0m\n",
      "\u001b[34mAttack Non-Member Acc: 0.6213991769547325\u001b[0m\n",
      "\u001b[34mAttack Accuracy: 0.7088477366255144\u001b[0m\n",
      "\u001b[34m/usr/local/lib/python3.8/dist-packages/sklearn/utils/deprecation.py:103: FutureWarning: Attribute `n_features_` was deprecated in version 1.0 and will be removed in 1.2. Use `n_features_in_` instead.\n",
      "  warnings.warn(msg, category=FutureWarning)\u001b[0m\n",
      "\u001b[34m/usr/local/lib/python3.8/dist-packages/sklearn/utils/deprecation.py:103: FutureWarning: Attribute `n_features_` was deprecated in version 1.0 and will be removed in 1.2. Use `n_features_in_` instead.\n",
      "  warnings.warn(msg, category=FutureWarning)\u001b[0m\n",
      "\u001b[34m/usr/local/lib/python3.8/dist-packages/sklearn/utils/deprecation.py:103: FutureWarning: Attribute `n_features_` was deprecated in version 1.0 and will be removed in 1.2. Use `n_features_in_` instead.\n",
      "  warnings.warn(msg, category=FutureWarning)\u001b[0m\n",
      "\u001b[34m/usr/local/lib/python3.8/dist-packages/sklearn/utils/deprecation.py:103: FutureWarning: Attribute `n_features_` was deprecated in version 1.0 and will be removed in 1.2. Use `n_features_in_` instead.\n",
      "  warnings.warn(msg, category=FutureWarning)\u001b[0m\n",
      "\u001b[34m[0.9609053497942387, 0.9650205761316872, 0.9670781893004116]\u001b[0m\n",
      "\u001b[34m-----------------iteration for 70% data-------------------------------\u001b[0m\n",
      "\u001b[34m-----------Training random forest attack model-------------\u001b[0m\n",
      "\u001b[34mAttack Member Acc: 0.7777777777777778\u001b[0m\n",
      "\u001b[34mAttack Non-Member Acc: 0.5905349794238683\u001b[0m\n",
      "\u001b[34mAttack Accuracy: 0.684156378600823\u001b[0m\n",
      "\u001b[34m-------------------Training grdient boosting attack model---------------\u001b[0m\n",
      "\u001b[34mAttack Member Acc: 0.7757201646090535\u001b[0m\n",
      "\u001b[34mAttack Non-Member Acc: 0.631687242798354\u001b[0m\n",
      "\u001b[34mAttack Accuracy: 0.7037037037037037\u001b[0m\n",
      "\u001b[34m/usr/local/lib/python3.8/dist-packages/sklearn/utils/deprecation.py:103: FutureWarning: Attribute `n_features_` was deprecated in version 1.0 and will be removed in 1.2. Use `n_features_in_` instead.\n",
      "  warnings.warn(msg, category=FutureWarning)\u001b[0m\n",
      "\u001b[34m/usr/local/lib/python3.8/dist-packages/sklearn/utils/deprecation.py:103: FutureWarning: Attribute `n_features_` was deprecated in version 1.0 and will be removed in 1.2. Use `n_features_in_` instead.\n",
      "  warnings.warn(msg, category=FutureWarning)\u001b[0m\n",
      "\u001b[34m/usr/local/lib/python3.8/dist-packages/sklearn/utils/deprecation.py:103: FutureWarning: Attribute `n_features_` was deprecated in version 1.0 and will be removed in 1.2. Use `n_features_in_` instead.\n",
      "  warnings.warn(msg, category=FutureWarning)\u001b[0m\n",
      "\u001b[34m/usr/local/lib/python3.8/dist-packages/sklearn/utils/deprecation.py:103: FutureWarning: Attribute `n_features_` was deprecated in version 1.0 and will be removed in 1.2. Use `n_features_in_` instead.\n",
      "  warnings.warn(msg, category=FutureWarning)\u001b[0m\n",
      "\u001b[34m[0.9670781893004116, 0.9547325102880658, 0.9629629629629629]\u001b[0m\n",
      "\u001b[34m-----------------iteration for 80% data-------------------------------\u001b[0m\n",
      "\u001b[34m-----------Training random forest attack model-------------\u001b[0m\n",
      "\u001b[34mAttack Member Acc: 0.7037037037037037\u001b[0m\n",
      "\u001b[34mAttack Non-Member Acc: 0.676954732510288\u001b[0m\n",
      "\u001b[34mAttack Accuracy: 0.6903292181069959\u001b[0m\n",
      "\u001b[34m-------------------Training grdient boosting attack model---------------\u001b[0m\n"
     ]
    },
    {
     "name": "stdout",
     "output_type": "stream",
     "text": [
      "\u001b[34mAttack Member Acc: 0.7592592592592593\u001b[0m\n",
      "\u001b[34mAttack Non-Member Acc: 0.654320987654321\u001b[0m\n",
      "\u001b[34mAttack Accuracy: 0.7067901234567902\u001b[0m\n",
      "\u001b[34m/usr/local/lib/python3.8/dist-packages/sklearn/utils/deprecation.py:103: FutureWarning: Attribute `n_features_` was deprecated in version 1.0 and will be removed in 1.2. Use `n_features_in_` instead.\n",
      "  warnings.warn(msg, category=FutureWarning)\u001b[0m\n",
      "\u001b[34m/usr/local/lib/python3.8/dist-packages/sklearn/utils/deprecation.py:103: FutureWarning: Attribute `n_features_` was deprecated in version 1.0 and will be removed in 1.2. Use `n_features_in_` instead.\n",
      "  warnings.warn(msg, category=FutureWarning)\u001b[0m\n",
      "\u001b[34m/usr/local/lib/python3.8/dist-packages/sklearn/utils/deprecation.py:103: FutureWarning: Attribute `n_features_` was deprecated in version 1.0 and will be removed in 1.2. Use `n_features_in_` instead.\n",
      "  warnings.warn(msg, category=FutureWarning)\u001b[0m\n",
      "\u001b[34m/usr/local/lib/python3.8/dist-packages/sklearn/utils/deprecation.py:103: FutureWarning: Attribute `n_features_` was deprecated in version 1.0 and will be removed in 1.2. Use `n_features_in_` instead.\n",
      "  warnings.warn(msg, category=FutureWarning)\u001b[0m\n",
      "\u001b[34m[0.9609053497942387, 0.9629629629629629, 0.9670781893004116]\u001b[0m\n",
      "\u001b[34m-----------------iteration for 90% data-------------------------------\u001b[0m\n",
      "\u001b[34m-----------Training random forest attack model-------------\u001b[0m\n",
      "\u001b[34mAttack Member Acc: 0.7489711934156379\u001b[0m\n",
      "\u001b[34mAttack Non-Member Acc: 0.6378600823045267\u001b[0m\n",
      "\u001b[34mAttack Accuracy: 0.6934156378600823\u001b[0m\n",
      "\u001b[34m-------------------Training grdient boosting attack model---------------\u001b[0m\n",
      "\u001b[34mAttack Member Acc: 0.7181069958847737\u001b[0m\n",
      "\u001b[34mAttack Non-Member Acc: 0.6728395061728395\u001b[0m\n",
      "\u001b[34mAttack Accuracy: 0.6954732510288066\u001b[0m\n",
      "\u001b[34m/usr/local/lib/python3.8/dist-packages/sklearn/utils/deprecation.py:103: FutureWarning: Attribute `n_features_` was deprecated in version 1.0 and will be removed in 1.2. Use `n_features_in_` instead.\n",
      "  warnings.warn(msg, category=FutureWarning)\u001b[0m\n",
      "\u001b[34m/usr/local/lib/python3.8/dist-packages/sklearn/utils/deprecation.py:103: FutureWarning: Attribute `n_features_` was deprecated in version 1.0 and will be removed in 1.2. Use `n_features_in_` instead.\n",
      "  warnings.warn(msg, category=FutureWarning)\u001b[0m\n",
      "\u001b[34m/usr/local/lib/python3.8/dist-packages/sklearn/utils/deprecation.py:103: FutureWarning: Attribute `n_features_` was deprecated in version 1.0 and will be removed in 1.2. Use `n_features_in_` instead.\n",
      "  warnings.warn(msg, category=FutureWarning)\u001b[0m\n",
      "\u001b[34m/usr/local/lib/python3.8/dist-packages/sklearn/utils/deprecation.py:103: FutureWarning: Attribute `n_features_` was deprecated in version 1.0 and will be removed in 1.2. Use `n_features_in_` instead.\n",
      "  warnings.warn(msg, category=FutureWarning)\u001b[0m\n",
      "\u001b[34m[0.9629629629629629, 0.9711934156378601, 0.9691358024691358]\u001b[0m\n",
      "\u001b[34m-----------------iteration for 100% data-------------------------------\u001b[0m\n",
      "\u001b[34m-----------Training random forest attack model-------------\u001b[0m\n",
      "\u001b[34mAttack Member Acc: 0.6234567901234568\u001b[0m\n",
      "\u001b[34mAttack Non-Member Acc: 0.7530864197530864\u001b[0m\n",
      "\u001b[34mAttack Accuracy: 0.6882716049382716\u001b[0m\n",
      "\u001b[34m-------------------Training grdient boosting attack model---------------\u001b[0m\n",
      "\u001b[34mAttack Member Acc: 0.5843621399176955\u001b[0m\n",
      "\u001b[34mAttack Non-Member Acc: 0.7736625514403292\u001b[0m\n",
      "\u001b[34mAttack Accuracy: 0.6790123456790124\u001b[0m\n",
      "\u001b[34mSuccess\u001b[0m\n",
      "\n",
      "2023-02-12 02:52:48 Uploading - Uploading generated training model\n",
      "2023-02-12 02:53:08 Completed - Training job completed\n",
      "Training seconds: 61\n",
      "Billable seconds: 61\n"
     ]
    }
   ],
   "source": [
    "#Create an estimator object for running a training job\n",
    "estimator = sage.algorithm.AlgorithmEstimator(\n",
    "    algorithm_arn=algo_arn,\n",
    "    base_job_name=\"mia-shadow-attack\",\n",
    "    role=role,\n",
    "    train_instance_count=1,\n",
    "    train_instance_type=training_instance_type,\n",
    "    input_mode=\"File\",\n",
    "    output_path=output_location,\n",
    "    sagemaker_session=sagemaker_session,\n",
    "    instance_count=1,\n",
    "    instance_type=training_instance_type\n",
    ")\n",
    "\n",
    "#Run the training job.\n",
    "estimator.fit({\"training\": training_input})"
   ]
  },
  {
   "cell_type": "markdown",
   "id": "41276f5b",
   "metadata": {},
   "source": [
    "See this [blog-post](https://aws.amazon.com/blogs/machine-learning/easily-monitor-and-visualize-metrics-while-training-models-on-amazon-sagemaker/) for more information how to visualize metrics during the process. You can also open the training job from [Amazon SageMaker console](https://console.aws.amazon.com/sagemaker/home?#/jobs/) and monitor the metrics/logs in **Monitor** section."
   ]
  },
  {
   "cell_type": "code",
   "execution_count": null,
   "id": "4be16619",
   "metadata": {},
   "outputs": [],
   "source": [
    "#output is available on following path\n",
    "estimator.output_path"
   ]
  },
  {
   "cell_type": "markdown",
   "id": "6094d704",
   "metadata": {},
   "source": [
    "## Note: Inferencing is done within training pipeline. Real time inference endpoint/batch transform job is not required."
   ]
  },
  {
   "cell_type": "markdown",
   "id": "e994c25d",
   "metadata": {},
   "source": [
    "### 3.3 Inspect the Output in S3"
   ]
  },
  {
   "cell_type": "code",
   "execution_count": 12,
   "id": "cbd02d30",
   "metadata": {},
   "outputs": [],
   "source": [
    "parsed_url = urlparse(estimator.output_path)\n",
    "bucket_name = parsed_url.netloc\n",
    "file_key = parsed_url.path[1:]+'/'+estimator.latest_training_job.job_name+'/output/'+\"model.tar.gz\"\n",
    "\n",
    "s3_client = sagemaker_session.boto_session.client('s3')\n",
    "response = s3_client.get_object(Bucket = sagemaker_session.default_bucket(), Key = file_key)"
   ]
  },
  {
   "cell_type": "code",
   "execution_count": 13,
   "id": "9bccd458",
   "metadata": {},
   "outputs": [],
   "source": [
    "bucketFolder = estimator.output_path.rsplit('/')[3] +'/Output/'+ estimator.latest_training_job.job_name+'/output/'+\"model.tar.gz\""
   ]
  },
  {
   "cell_type": "code",
   "execution_count": null,
   "id": "73030baa",
   "metadata": {},
   "outputs": [],
   "source": [
    "bucketFolder"
   ]
  },
  {
   "cell_type": "code",
   "execution_count": 15,
   "id": "1693e795",
   "metadata": {},
   "outputs": [
    {
     "name": "stdout",
     "output_type": "stream",
     "text": [
      "Output file loaded from bucket\n"
     ]
    },
    {
     "name": "stderr",
     "output_type": "stream",
     "text": [
      "/home/ec2-user/anaconda3/envs/python3/lib/python3.6/site-packages/boto3/compat.py:88: PythonDeprecationWarning: Boto3 will no longer support Python 3.6 starting May 30, 2022. To continue receiving service updates, bug fixes, and security updates please upgrade to Python 3.7 or later. More information can be found here: https://aws.amazon.com/blogs/developer/python-support-policy-updates-for-aws-sdks-and-tools/\n",
      "  warnings.warn(warning, PythonDeprecationWarning)\n"
     ]
    }
   ],
   "source": [
    "s3_conn = boto3.client(\"s3\")\n",
    "bucket_name=bucket\n",
    "with open('output.tar.gz', 'wb') as f:\n",
    "    s3_conn.download_fileobj(bucket_name, bucketFolder, f)\n",
    "    print(\"Output file loaded from bucket\")"
   ]
  },
  {
   "cell_type": "code",
   "execution_count": 16,
   "id": "994a082d",
   "metadata": {},
   "outputs": [],
   "source": [
    "with tarfile.open('output.tar.gz') as file:\n",
    "    file.extractall('./output')\n",
    "\n",
    "output_path = \"output/\"\n",
    "\n",
    "output = pd.read_csv(\"output/output.csv\")"
   ]
  },
  {
   "cell_type": "code",
   "execution_count": 17,
   "id": "67af9b14",
   "metadata": {},
   "outputs": [
    {
     "data": {
      "text/html": [
       "<div>\n",
       "<style scoped>\n",
       "    .dataframe tbody tr th:only-of-type {\n",
       "        vertical-align: middle;\n",
       "    }\n",
       "\n",
       "    .dataframe tbody tr th {\n",
       "        vertical-align: top;\n",
       "    }\n",
       "\n",
       "    .dataframe thead th {\n",
       "        text-align: right;\n",
       "    }\n",
       "</style>\n",
       "<table border=\"1\" class=\"dataframe\">\n",
       "  <thead>\n",
       "    <tr style=\"text-align: right;\">\n",
       "      <th></th>\n",
       "      <th>Percentage Data</th>\n",
       "      <th>Member Accuracy</th>\n",
       "      <th>Non-member Accuracy</th>\n",
       "      <th>Attack Accuracy</th>\n",
       "      <th>Attack Model</th>\n",
       "    </tr>\n",
       "  </thead>\n",
       "  <tbody>\n",
       "    <tr>\n",
       "      <th>0</th>\n",
       "      <td>10</td>\n",
       "      <td>0.979424</td>\n",
       "      <td>0.230453</td>\n",
       "      <td>0.604938</td>\n",
       "      <td>GB</td>\n",
       "    </tr>\n",
       "    <tr>\n",
       "      <th>1</th>\n",
       "      <td>20</td>\n",
       "      <td>0.946502</td>\n",
       "      <td>0.337449</td>\n",
       "      <td>0.641975</td>\n",
       "      <td>GB</td>\n",
       "    </tr>\n",
       "    <tr>\n",
       "      <th>2</th>\n",
       "      <td>30</td>\n",
       "      <td>0.907407</td>\n",
       "      <td>0.473251</td>\n",
       "      <td>0.690329</td>\n",
       "      <td>GB</td>\n",
       "    </tr>\n",
       "    <tr>\n",
       "      <th>3</th>\n",
       "      <td>40</td>\n",
       "      <td>0.870370</td>\n",
       "      <td>0.549383</td>\n",
       "      <td>0.709877</td>\n",
       "      <td>GB</td>\n",
       "    </tr>\n",
       "    <tr>\n",
       "      <th>4</th>\n",
       "      <td>50</td>\n",
       "      <td>0.833333</td>\n",
       "      <td>0.574074</td>\n",
       "      <td>0.703704</td>\n",
       "      <td>GB</td>\n",
       "    </tr>\n",
       "    <tr>\n",
       "      <th>5</th>\n",
       "      <td>60</td>\n",
       "      <td>0.796296</td>\n",
       "      <td>0.621399</td>\n",
       "      <td>0.708848</td>\n",
       "      <td>GB</td>\n",
       "    </tr>\n",
       "    <tr>\n",
       "      <th>6</th>\n",
       "      <td>70</td>\n",
       "      <td>0.775720</td>\n",
       "      <td>0.631687</td>\n",
       "      <td>0.703704</td>\n",
       "      <td>GB</td>\n",
       "    </tr>\n",
       "    <tr>\n",
       "      <th>7</th>\n",
       "      <td>80</td>\n",
       "      <td>0.759259</td>\n",
       "      <td>0.654321</td>\n",
       "      <td>0.706790</td>\n",
       "      <td>GB</td>\n",
       "    </tr>\n",
       "    <tr>\n",
       "      <th>8</th>\n",
       "      <td>90</td>\n",
       "      <td>0.718107</td>\n",
       "      <td>0.672840</td>\n",
       "      <td>0.695473</td>\n",
       "      <td>GB</td>\n",
       "    </tr>\n",
       "    <tr>\n",
       "      <th>9</th>\n",
       "      <td>100</td>\n",
       "      <td>0.623457</td>\n",
       "      <td>0.753086</td>\n",
       "      <td>0.688272</td>\n",
       "      <td>RF</td>\n",
       "    </tr>\n",
       "  </tbody>\n",
       "</table>\n",
       "</div>"
      ],
      "text/plain": [
       "   Percentage Data  Member Accuracy  Non-member Accuracy  Attack Accuracy  \\\n",
       "0               10         0.979424             0.230453         0.604938   \n",
       "1               20         0.946502             0.337449         0.641975   \n",
       "2               30         0.907407             0.473251         0.690329   \n",
       "3               40         0.870370             0.549383         0.709877   \n",
       "4               50         0.833333             0.574074         0.703704   \n",
       "5               60         0.796296             0.621399         0.708848   \n",
       "6               70         0.775720             0.631687         0.703704   \n",
       "7               80         0.759259             0.654321         0.706790   \n",
       "8               90         0.718107             0.672840         0.695473   \n",
       "9              100         0.623457             0.753086         0.688272   \n",
       "\n",
       "  Attack Model  \n",
       "0           GB  \n",
       "1           GB  \n",
       "2           GB  \n",
       "3           GB  \n",
       "4           GB  \n",
       "5           GB  \n",
       "6           GB  \n",
       "7           GB  \n",
       "8           GB  \n",
       "9           RF  "
      ]
     },
     "execution_count": 17,
     "metadata": {},
     "output_type": "execute_result"
    }
   ],
   "source": [
    "output"
   ]
  },
  {
   "cell_type": "markdown",
   "id": "7522abaf",
   "metadata": {},
   "source": [
    "### 4. Clean-up"
   ]
  },
  {
   "cell_type": "markdown",
   "id": "6b7d712e",
   "metadata": {},
   "source": [
    "#### Unsubscribe to the listing (optional)"
   ]
  },
  {
   "cell_type": "markdown",
   "id": "09344281",
   "metadata": {},
   "source": [
    "If you would like to unsubscribe to the algorithm, follow these steps. Before you cancel the subscription, ensure that you do not have any [deployable model](https://console.aws.amazon.com/sagemaker/home#/models) created from the model package or using the algorithm. Note - You can find this information by looking at the container name associated with the model. \n",
    "\n",
    "**Steps to unsubscribe to product from AWS Marketplace**:\n",
    "1. Navigate to __Machine Learning__ tab on [__Your Software subscriptions page__](https://aws.amazon.com/marketplace/ai/library?productType=ml&ref_=mlmp_gitdemo_indust)\n",
    "2. Locate the listing that you want to cancel the subscription for, and then choose __Cancel Subscription__  to cancel the subscription."
   ]
  },
  {
   "cell_type": "code",
   "execution_count": null,
   "id": "035d3e5a",
   "metadata": {},
   "outputs": [],
   "source": []
  }
 ],
 "metadata": {
  "kernelspec": {
   "display_name": "conda_python3",
   "language": "python",
   "name": "conda_python3"
  },
  "language_info": {
   "codemirror_mode": {
    "name": "ipython",
    "version": 3
   },
   "file_extension": ".py",
   "mimetype": "text/x-python",
   "name": "python",
   "nbconvert_exporter": "python",
   "pygments_lexer": "ipython3",
   "version": "3.6.13"
  }
 },
 "nbformat": 4,
 "nbformat_minor": 5
}
